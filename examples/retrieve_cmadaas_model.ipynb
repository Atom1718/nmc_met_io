{
 "cells": [
  {
   "cell_type": "markdown",
   "metadata": {},
   "source": [
    "<a name=\"top\"></a>\n",
    "<div style=\"width:1000 px\">\n",
    "\n",
    "<div style=\"float:right; width:68 px; height:68px;\">\n",
    "<img src=\"./images/nmc_logo.png\" alt=\"NMC Logo\" style=\"height: 68px;\">\n",
    "</div>\n",
    "    \n",
    "<h1 align=\"left\">气象大数据云平台的模式数据读取</h1>\n",
    "\n",
    "<div style=\"clear:both\"></div>\n",
    "</div>\n",
    "\n",
    "<hr style=\"height:2px;\">\n"
   ]
  },
  {
   "cell_type": "code",
   "execution_count": 3,
   "metadata": {},
   "outputs": [],
   "source": [
    "# set up things\n",
    "%matplotlib inline\n",
    "%load_ext autoreload\n",
    "%autoreload 2\n",
    "\n",
    "import warnings\n",
    "warnings.filterwarnings('ignore')"
   ]
  },
  {
   "cell_type": "code",
   "execution_count": 17,
   "metadata": {},
   "outputs": [
    {
     "data": {
      "text/plain": [
       "<xarray.core.options.set_options at 0x7faf7c300290>"
      ]
     },
     "execution_count": 17,
     "metadata": {},
     "output_type": "execute_result"
    }
   ],
   "source": [
    "import numpy as np\n",
    "import xarray as xr\n",
    "\n",
    "from nmc_met_io.retrieve_cmadaas import cmadaas_model_grid\n",
    "\n",
    "xr.set_options(display_style=\"text\")"
   ]
  },
  {
   "cell_type": "markdown",
   "metadata": {},
   "source": [
    "## 读取单个数值模式预报数据"
   ]
  },
  {
   "cell_type": "code",
   "execution_count": 19,
   "metadata": {},
   "outputs": [
    {
     "data": {
      "text/html": [
       "<pre>&lt;xarray.Dataset&gt;\n",
       "Dimensions:                  (lat: 1441, lon: 2880, time: 1)\n",
       "Coordinates:\n",
       "  * time                     (time) datetime64[ns] 2020-03-30\n",
       "  * lat                      (lat) float64 90.0 89.88 89.75 ... -89.88 -90.0\n",
       "  * lon                      (lon) float64 0.0 0.125 0.25 ... 359.6 359.8 359.9\n",
       "    forecast_reference_time  datetime64[ns] 2020-03-30\n",
       "    forecast_period          (time) float64 0.0\n",
       "Data variables:\n",
       "    temperature              (time, lat, lon) float32 -25.38974 ... -50.20224\n",
       "Attributes:\n",
       "    Conventions:  CF-1.6\n",
       "    Origin:       CIMISS Server by MUSIC API</pre>"
      ],
      "text/plain": [
       "<xarray.Dataset>\n",
       "Dimensions:                  (lat: 1441, lon: 2880, time: 1)\n",
       "Coordinates:\n",
       "  * time                     (time) datetime64[ns] 2020-03-30\n",
       "  * lat                      (lat) float64 90.0 89.88 89.75 ... -89.88 -90.0\n",
       "  * lon                      (lon) float64 0.0 0.125 0.25 ... 359.6 359.8 359.9\n",
       "    forecast_reference_time  datetime64[ns] 2020-03-30\n",
       "    forecast_period          (time) float64 0.0\n",
       "Data variables:\n",
       "    temperature              (time, lat, lon) float32 -25.38974 ... -50.20224\n",
       "Attributes:\n",
       "    Conventions:  CF-1.6\n",
       "    Origin:       CIMISS Server by MUSIC API"
      ]
     },
     "execution_count": 19,
     "metadata": {},
     "output_type": "execute_result"
    }
   ],
   "source": [
    "# set retrieve parameters\n",
    "dataCode = \"NAFP_ECMF_C1D_GLB_FOR\"    # 资料代码: 大气模式确定性预报产品\n",
    "init_time = \"2020033000\"              # 起报时间: \n",
    "fcst_Ele = \"TEM\"\n",
    "levelType = 1\n",
    "fcastLevel = 0\n",
    "validTime = 0\n",
    "\n",
    "# retrieve data from CMADaaS\n",
    "data = cmadaas_model_grid(dataCode, init_time, validTime, fcst_Ele, fcastLevel, levelType, \n",
    "                          varname='temperature', units='Degree', scale_off=[1.0, -273.15],\n",
    "                          levattrs={'long_name':'height_above_ground', 'units':'m', '_CoordinateAxisType':'Height'})\n",
    "data"
   ]
  },
  {
   "cell_type": "code",
   "execution_count": null,
   "metadata": {},
   "outputs": [],
   "source": []
  }
 ],
 "metadata": {
  "kernelspec": {
   "display_name": "Python 3",
   "language": "python",
   "name": "python3"
  },
  "language_info": {
   "codemirror_mode": {
    "name": "ipython",
    "version": 3
   },
   "file_extension": ".py",
   "mimetype": "text/x-python",
   "name": "python",
   "nbconvert_exporter": "python",
   "pygments_lexer": "ipython3",
   "version": "3.7.6"
  }
 },
 "nbformat": 4,
 "nbformat_minor": 4
}
